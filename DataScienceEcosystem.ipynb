{
 "cells": [
  {
   "cell_type": "markdown",
   "id": "ddb97ca3-fcbc-4d63-876a-88aae2b56e05",
   "metadata": {},
   "source": [
    "# Data Science Tools and Ecosystem"
   ]
  },
  {
   "cell_type": "markdown",
   "id": "d74a642d-a1f9-484f-a0a6-b77cf218fd06",
   "metadata": {},
   "source": [
    "In this notebook, Data Science Tools and Ecosystem are summarized."
   ]
  },
  {
   "cell_type": "markdown",
   "id": "708e022e-b21e-4a2e-9b1a-42b018ffb647",
   "metadata": {},
   "source": [
    "**Objectives:**\n",
    "* Listing of Popular Languages that Data Scientsist Use\n",
    "* Table of Data Sciene Tools\n",
    "* Example of Addition and Multiplication (Python)\n",
    "* Example of Division (Python)"
   ]
  },
  {
   "cell_type": "markdown",
   "id": "e1e94766-c9a2-4551-95db-9796f21c36a1",
   "metadata": {},
   "source": [
    "Some of the popular languages that Data Scientists use are:\n",
    "\n",
    "1. Python\n",
    "2. R\n",
    "3. Julia\n",
    "4. Java\n",
    "5. C++"
   ]
  },
  {
   "cell_type": "markdown",
   "id": "bda79a37-a900-4d2a-bcd4-a529f22309ed",
   "metadata": {},
   "source": [
    "Some of the commonly used libraries used by Data Scientists include:\n",
    "1. Pandas\n",
    "2. NumPy\n",
    "3. Matplotlib\n",
    "4. Seaborn"
   ]
  },
  {
   "cell_type": "markdown",
   "id": "78723db6-bc44-4f2d-88e4-f123647a28bf",
   "metadata": {},
   "source": [
    "|Data Science Tools|\n",
    "|----|\n",
    "|R Studio|\n",
    "|Jupyter Notebook|\n",
    "|TensorFlow|"
   ]
  },
  {
   "cell_type": "markdown",
   "id": "ae9856e9-3a30-48b8-93b3-e6e78fc97b90",
   "metadata": {},
   "source": [
    "### Below are a few examples of evaluating arithmetic expressions in Python."
   ]
  },
  {
   "cell_type": "code",
   "execution_count": 1,
   "id": "2d00ab6b-e02a-479c-9b0f-1f4e689665c0",
   "metadata": {},
   "outputs": [
    {
     "data": {
      "text/plain": [
       "17"
      ]
     },
     "execution_count": 1,
     "metadata": {},
     "output_type": "execute_result"
    }
   ],
   "source": [
    "#This is a simple arithmetic expression to multiply then add integers.\n",
    "(3*4)+5"
   ]
  },
  {
   "cell_type": "code",
   "execution_count": 2,
   "id": "35f73515-3e96-4534-93d8-df6422381b51",
   "metadata": {},
   "outputs": [
    {
     "data": {
      "text/plain": [
       "3.3333333333333335"
      ]
     },
     "execution_count": 2,
     "metadata": {},
     "output_type": "execute_result"
    }
   ],
   "source": [
    "# This will convert 200 minutes to hours by dividing by 60\n",
    "200/60"
   ]
  },
  {
   "cell_type": "markdown",
   "id": "55880ba0-9c87-4258-ba37-c63793269187",
   "metadata": {},
   "source": [
    "## Author\n",
    "Mike Eross"
   ]
  }
 ],
 "metadata": {
  "kernelspec": {
   "display_name": "Python 3 (ipykernel)",
   "language": "python",
   "name": "python3"
  },
  "language_info": {
   "codemirror_mode": {
    "name": "ipython",
    "version": 3
   },
   "file_extension": ".py",
   "mimetype": "text/x-python",
   "name": "python",
   "nbconvert_exporter": "python",
   "pygments_lexer": "ipython3",
   "version": "3.12.8"
  }
 },
 "nbformat": 4,
 "nbformat_minor": 5
}
